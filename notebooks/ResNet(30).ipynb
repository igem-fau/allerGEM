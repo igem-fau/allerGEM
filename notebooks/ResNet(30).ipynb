{
 "cells": [
  {
   "cell_type": "markdown",
   "metadata": {},
   "source": [
    "# ResNet(30)"
   ]
  },
  {
   "cell_type": "code",
   "execution_count": null,
   "metadata": {},
   "outputs": [],
   "source": [
    "import tensorflow as tf\n",
    "import numpy as np\n",
    "from tensorflow.keras.models import Model\n",
    "from tensorflow.keras.layers import (Input, Activation, Dense, Flatten, Reshape, Conv1D, Conv2D, Add, BatchNormalization, MaxPooling1D)"
   ]
  },
  {
   "cell_type": "markdown",
   "metadata": {},
   "source": [
    "## Function and Co. definitions"
   ]
  },
  {
   "cell_type": "markdown",
   "metadata": {},
   "source": [
    "### Map AA Codes to intergeters for one hot encoding"
   ]
  },
  {
   "cell_type": "code",
   "execution_count": 2,
   "metadata": {},
   "outputs": [],
   "source": [
    "aa1 = list(\"ACDEFGHIKLMNPQRSTVWY\")\n",
    "aa2int = dict((c, i) for i, c in enumerate(aa1))"
   ]
  },
  {
   "cell_type": "markdown",
   "metadata": {},
   "source": [
    "### Function to one hot encode a AA code string"
   ]
  },
  {
   "cell_type": "code",
   "execution_count": null,
   "metadata": {},
   "outputs": [],
   "source": [
    "def onehot(seq):\n",
    "    \"\"\"Return the amino acid sequence as a one hot coded numpy array\"\"\"\n",
    "    ret = np.zeros([len(1912), 20]) # the number 1912 may change\n",
    "\n",
    "    for i, j in enumerate(seq):\n",
    "        ret[i][aa2int[j]] = 1\n",
    "\n",
    "    return ret\n"
   ]
  },
  {
   "cell_type": "markdown",
   "metadata": {},
   "source": [
    "### Funtion to create a ResNet layer"
   ]
  },
  {
   "cell_type": "code",
   "execution_count": null,
   "metadata": {},
   "outputs": [],
   "source": [
    "def resblock(input_, filters_):\n",
    "    \"\"\"Creates a Residual Layer with x amount of filters. Returns the bottom\n",
    "    layer.\n",
    "    \"\"\"\n",
    "    lconv1d = Conv1D(filters=filters_, kernel_size=3)(input_)\n",
    "    lmaxpooling = MaxPooling1D(pool_size=2)(lconv1d)\n",
    "    convshape = tf.keras.backend.int_shape(lmaxpooling)\n",
    "    \n",
    "    raconv1d = Conv1D(filters=filters_, kernel_size=3)(input_)\n",
    "    rbconv1d = Conv1D(filters=filters_, kernel_size=3)(raconv1d)\n",
    "    rcconv1d = Conv1D(filters=filters_, kernel_size=1)(rbconv1d)\n",
    "    rmaxpooling = MaxPooling1D(pool_size=2)(rcconv1d)\n",
    "    reshaped = Reshape(target_shape=convshape[1:])(rmaxpooling)\n",
    "    add = Add()([lmaxpooling, reshaped])\n",
    "\n",
    "    return add"
   ]
  },
  {
   "cell_type": "markdown",
   "metadata": {},
   "source": [
    "## Read input file and parse it "
   ]
  },
  {
   "cell_type": "code",
   "execution_count": null,
   "metadata": {},
   "outputs": [],
   "source": [
    "data = list(open(\"../data/filtered.fasta\", 'r'))\n",
    "data = [i[:-1] for i in data]\n",
    "labels = np.array([i.split(';')[1] for i in data])\n",
    "data = [i.split(';')[0] for i in data]\n",
    "\n",
    "# TODO: Use onhot function and create \"training data format\"."
   ]
  },
  {
   "cell_type": "markdown",
   "metadata": {},
   "source": [
    "## ResNet Implementation"
   ]
  },
  {
   "cell_type": "code",
   "execution_count": null,
   "metadata": {},
   "outputs": [],
   "source": [
    "n_filters = 256\n",
    "inputlayer = Input(shape=(20,1912000)) # This number must be ridiculously high\n",
    "reshaped = Reshape(target_shape=(20,1912000,1))(inputlayer)\n",
    "conv2d = Conv2D(filters=n_filters, kernel_size=(20,1))(reshaped)\n",
    "reshaped = Reshape(target_shape=(1912000,n_filters))(conv2d)\n",
    "normalized = BatchNormalization()(reshaped)\n",
    "rb = resblock(normalized, n_filters)\n",
    "\n",
    "for i in range(7):\n",
    "    rb = resblock(rb, n_filters)\n",
    "    # May need to cut down the number of layers so we don't need that huge number at the beginning\n",
    "    rb = resblock(rb, n_filters)\n",
    "    n_filters = int(n_filters/2)\n",
    "\n",
    "rb = resblock(rb, n_filters)\n",
    "n_filters = int(n_filters/2)\n",
    "rb = resblock(rb, n_filters)\n",
    "\n",
    "model = Model(inputlayer, rb)\n",
    "print(model.summary())"
   ]
  }
 ],
 "metadata": {
  "kernelspec": {
   "display_name": "Python 3",
   "language": "python",
   "name": "python3"
  },
  "language_info": {
   "codemirror_mode": {
    "name": "ipython",
    "version": 3
   },
   "file_extension": ".py",
   "mimetype": "text/x-python",
   "name": "python",
   "nbconvert_exporter": "python",
   "pygments_lexer": "ipython3",
   "version": "3.7.3"
  }
 },
 "nbformat": 4,
 "nbformat_minor": 2
}
