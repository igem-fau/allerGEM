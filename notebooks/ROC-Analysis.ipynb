{
 "cells": [
  {
   "cell_type": "code",
   "execution_count": 1,
   "metadata": {
    "scrolled": true
   },
   "outputs": [
    {
     "name": "stdout",
     "output_type": "stream",
     "text": [
      "WARNING:tensorflow:From C:\\Users\\z003v6wt\\AppData\\Local\\Continuum\\anaconda3\\lib\\site-packages\\tensorflow\\python\\ops\\resource_variable_ops.py:435: colocate_with (from tensorflow.python.framework.ops) is deprecated and will be removed in a future version.\n",
      "Instructions for updating:\n",
      "Colocations handled automatically by placer.\n",
      "WARNING:tensorflow:From C:\\Users\\z003v6wt\\AppData\\Local\\Continuum\\anaconda3\\lib\\site-packages\\tensorflow\\python\\keras\\layers\\core.py:143: calling dropout (from tensorflow.python.ops.nn_ops) with keep_prob is deprecated and will be removed in a future version.\n",
      "Instructions for updating:\n",
      "Please use `rate` instead of `keep_prob`. Rate should be set to `rate = 1 - keep_prob`.\n",
      "WARNING:tensorflow:From C:\\Users\\z003v6wt\\AppData\\Local\\Continuum\\anaconda3\\lib\\site-packages\\tensorflow\\python\\ops\\math_ops.py:3066: to_int32 (from tensorflow.python.ops.math_ops) is deprecated and will be removed in a future version.\n",
      "Instructions for updating:\n",
      "Use tf.cast instead.\n",
      "__________________________________________________________________________________________________\n",
      "Layer (type)                    Output Shape         Param #     Connected to                     \n",
      "==================================================================================================\n",
      "input_1 (InputLayer)            (None, 16384, 20)    0                                            \n",
      "__________________________________________________________________________________________________\n",
      "reshape (Reshape)               (None, 16384, 20, 1) 0           input_1[0][0]                    \n",
      "__________________________________________________________________________________________________\n",
      "conv2d (Conv2D)                 (None, 16384, 1, 128 2688        reshape[0][0]                    \n",
      "__________________________________________________________________________________________________\n",
      "batch_normalization_v1 (BatchNo (None, 16384, 1, 128 512         conv2d[0][0]                     \n",
      "__________________________________________________________________________________________________\n",
      "reshape_1 (Reshape)             (None, 16384, 128)   0           batch_normalization_v1[0][0]     \n",
      "__________________________________________________________________________________________________\n",
      "conv1d (Conv1D)                 (None, 16384, 128)   49280       reshape_1[0][0]                  \n",
      "__________________________________________________________________________________________________\n",
      "conv1d_1 (Conv1D)               (None, 16384, 128)   49280       conv1d[0][0]                     \n",
      "__________________________________________________________________________________________________\n",
      "conv1d_2 (Conv1D)               (None, 16384, 128)   16512       conv1d_1[0][0]                   \n",
      "__________________________________________________________________________________________________\n",
      "max_pooling1d (MaxPooling1D)    (None, 8192, 128)    0           conv1d_2[0][0]                   \n",
      "__________________________________________________________________________________________________\n",
      "batch_normalization_v1_1 (Batch (None, 8192, 128)    512         max_pooling1d[0][0]              \n",
      "__________________________________________________________________________________________________\n",
      "conv1d_3 (Conv1D)               (None, 8192, 128)    49280       batch_normalization_v1_1[0][0]   \n",
      "__________________________________________________________________________________________________\n",
      "conv1d_4 (Conv1D)               (None, 8192, 128)    49280       conv1d_3[0][0]                   \n",
      "__________________________________________________________________________________________________\n",
      "conv1d_5 (Conv1D)               (None, 8192, 128)    16512       conv1d_4[0][0]                   \n",
      "__________________________________________________________________________________________________\n",
      "max_pooling1d_1 (MaxPooling1D)  (None, 4096, 128)    0           conv1d_5[0][0]                   \n",
      "__________________________________________________________________________________________________\n",
      "batch_normalization_v1_2 (Batch (None, 4096, 128)    512         max_pooling1d_1[0][0]            \n",
      "__________________________________________________________________________________________________\n",
      "conv1d_6 (Conv1D)               (None, 4096, 128)    49280       batch_normalization_v1_2[0][0]   \n",
      "__________________________________________________________________________________________________\n",
      "conv1d_7 (Conv1D)               (None, 4096, 128)    49280       conv1d_6[0][0]                   \n",
      "__________________________________________________________________________________________________\n",
      "conv1d_9 (Conv1D)               (None, 4096, 128)    49280       batch_normalization_v1_2[0][0]   \n",
      "__________________________________________________________________________________________________\n",
      "conv1d_8 (Conv1D)               (None, 4096, 128)    16512       conv1d_7[0][0]                   \n",
      "__________________________________________________________________________________________________\n",
      "max_pooling1d_3 (MaxPooling1D)  (None, 2048, 128)    0           conv1d_9[0][0]                   \n",
      "__________________________________________________________________________________________________\n",
      "max_pooling1d_2 (MaxPooling1D)  (None, 2048, 128)    0           conv1d_8[0][0]                   \n",
      "__________________________________________________________________________________________________\n",
      "batch_normalization_v1_4 (Batch (None, 2048, 128)    512         max_pooling1d_3[0][0]            \n",
      "__________________________________________________________________________________________________\n",
      "batch_normalization_v1_3 (Batch (None, 2048, 128)    512         max_pooling1d_2[0][0]            \n",
      "__________________________________________________________________________________________________\n",
      "add (Add)                       (None, 2048, 128)    0           batch_normalization_v1_4[0][0]   \n",
      "                                                                 batch_normalization_v1_3[0][0]   \n",
      "__________________________________________________________________________________________________\n",
      "conv1d_10 (Conv1D)              (None, 2048, 64)     24640       add[0][0]                        \n",
      "__________________________________________________________________________________________________\n",
      "conv1d_11 (Conv1D)              (None, 2048, 64)     12352       conv1d_10[0][0]                  \n",
      "__________________________________________________________________________________________________\n",
      "conv1d_12 (Conv1D)              (None, 2048, 64)     4160        conv1d_11[0][0]                  \n",
      "__________________________________________________________________________________________________\n",
      "max_pooling1d_4 (MaxPooling1D)  (None, 1024, 64)     0           conv1d_12[0][0]                  \n",
      "__________________________________________________________________________________________________\n",
      "batch_normalization_v1_5 (Batch (None, 1024, 64)     256         max_pooling1d_4[0][0]            \n",
      "__________________________________________________________________________________________________\n",
      "conv1d_13 (Conv1D)              (None, 1024, 64)     12352       batch_normalization_v1_5[0][0]   \n",
      "__________________________________________________________________________________________________\n",
      "conv1d_14 (Conv1D)              (None, 1024, 64)     12352       conv1d_13[0][0]                  \n",
      "__________________________________________________________________________________________________\n",
      "conv1d_16 (Conv1D)              (None, 1024, 64)     12352       batch_normalization_v1_5[0][0]   \n",
      "__________________________________________________________________________________________________\n",
      "conv1d_15 (Conv1D)              (None, 1024, 64)     4160        conv1d_14[0][0]                  \n",
      "__________________________________________________________________________________________________\n",
      "max_pooling1d_6 (MaxPooling1D)  (None, 512, 64)      0           conv1d_16[0][0]                  \n",
      "__________________________________________________________________________________________________\n",
      "max_pooling1d_5 (MaxPooling1D)  (None, 512, 64)      0           conv1d_15[0][0]                  \n",
      "__________________________________________________________________________________________________\n",
      "batch_normalization_v1_7 (Batch (None, 512, 64)      256         max_pooling1d_6[0][0]            \n",
      "__________________________________________________________________________________________________\n",
      "batch_normalization_v1_6 (Batch (None, 512, 64)      256         max_pooling1d_5[0][0]            \n",
      "__________________________________________________________________________________________________\n",
      "add_1 (Add)                     (None, 512, 64)      0           batch_normalization_v1_7[0][0]   \n",
      "                                                                 batch_normalization_v1_6[0][0]   \n",
      "__________________________________________________________________________________________________\n",
      "conv1d_17 (Conv1D)              (None, 512, 1)       193         add_1[0][0]                      \n",
      "__________________________________________________________________________________________________\n",
      "conv1d_18 (Conv1D)              (None, 512, 1)       4           conv1d_17[0][0]                  \n",
      "__________________________________________________________________________________________________\n",
      "conv1d_20 (Conv1D)              (None, 512, 1)       193         add_1[0][0]                      \n",
      "__________________________________________________________________________________________________\n",
      "conv1d_19 (Conv1D)              (None, 512, 1)       2           conv1d_18[0][0]                  \n",
      "__________________________________________________________________________________________________\n",
      "max_pooling1d_8 (MaxPooling1D)  (None, 256, 1)       0           conv1d_20[0][0]                  \n",
      "__________________________________________________________________________________________________\n",
      "max_pooling1d_7 (MaxPooling1D)  (None, 256, 1)       0           conv1d_19[0][0]                  \n",
      "__________________________________________________________________________________________________\n",
      "batch_normalization_v1_9 (Batch (None, 256, 1)       4           max_pooling1d_8[0][0]            \n",
      "__________________________________________________________________________________________________\n",
      "batch_normalization_v1_8 (Batch (None, 256, 1)       4           max_pooling1d_7[0][0]            \n",
      "__________________________________________________________________________________________________\n",
      "add_2 (Add)                     (None, 256, 1)       0           batch_normalization_v1_9[0][0]   \n",
      "                                                                 batch_normalization_v1_8[0][0]   \n",
      "__________________________________________________________________________________________________\n",
      "flatten (Flatten)               (None, 256)          0           add_2[0][0]                      \n",
      "__________________________________________________________________________________________________\n",
      "dropout (Dropout)               (None, 256)          0           flatten[0][0]                    \n",
      "__________________________________________________________________________________________________\n",
      "dense (Dense)                   (None, 1)            257         dropout[0][0]                    \n",
      "==================================================================================================\n",
      "Total params: 483,537\n",
      "Trainable params: 481,869\n",
      "Non-trainable params: 1,668\n",
      "__________________________________________________________________________________________________\n"
     ]
    }
   ],
   "source": [
    "import numpy as np\n",
    "import tensorflow as tf\n",
    "\n",
    "MODEL = \"network_20190906-160604.ckpt\"\n",
    "batch_size = 1\n",
    "dataset_size = 3902\n",
    "longest = 16384\n",
    "\n",
    "model = tf.keras.models.load_model(MODEL)\n",
    "model.summary()"
   ]
  },
  {
   "cell_type": "markdown",
   "metadata": {},
   "source": [
    "## Load dataset"
   ]
  },
  {
   "cell_type": "code",
   "execution_count": 2,
   "metadata": {},
   "outputs": [
    {
     "name": "stdout",
     "output_type": "stream",
     "text": [
      "3902\n"
     ]
    }
   ],
   "source": [
    "def onehot(seq):\n",
    "    \"\"\"Return the amino acid sequence as one hot coded numpy array\"\"\"\n",
    "    oh = np.zeros([longest, 20])\n",
    "\n",
    "    for i, j in enumerate(seq):\n",
    "        oh[i][aa2int[j]] = 1\n",
    "\n",
    "    return oh\n",
    "\n",
    "aa1 = list(\"ACDEFGHIKLMNPQRSTVWY\")\n",
    "aa2int = dict((c, i) for i, c in enumerate(aa1))\n",
    "\n",
    "def read_file(filename):\n",
    "    with open(filename, \"r\") as f:\n",
    "        while True:\n",
    "            d = f.readline().replace('\\n', '')\n",
    "            \n",
    "            if d == '': break\n",
    "            \n",
    "            d = d.split(\";\")\n",
    "        \n",
    "            yield d[0], onehot(d[0]), 1.0 if d[1] == '1' else 0.0\n",
    "\n",
    "test_data = [data for data in read_file(\"data_split_1_test_20190807-102903.dat\")]\n",
    "\n",
    "print(len(test_data))\n",
    "\n",
    "Seqtest = []\n",
    "Xtest = np.zeros((len(test_data),) + test_data[0][1].shape)\n",
    "Ytest = np.zeros((len(test_data),))\n",
    "for i in range(len(test_data)):\n",
    "    Seqtest.append(test_data[i][0])\n",
    "    Xtest[i] = test_data[i][1]\n",
    "    Ytest[i] = test_data[i][2]"
   ]
  },
  {
   "cell_type": "code",
   "execution_count": 3,
   "metadata": {},
   "outputs": [
    {
     "name": "stdout",
     "output_type": "stream",
     "text": [
      "413\n"
     ]
    }
   ],
   "source": [
    "Seqallergens = []\n",
    "Xallergens = []\n",
    "Yallergens = []\n",
    "\n",
    "for i in range(len(test_data)):\n",
    "    if Ytest[i] > 0:\n",
    "        Seqallergens.append(Seqtest[i])\n",
    "        Xallergens.append(Xtest[i])\n",
    "        Yallergens.append(Ytest[i])\n",
    "\n",
    "Xallergens = np.array(Xallergens)\n",
    "Yallergens = np.array(Yallergens)\n",
    "\n",
    "print(len(Xallergens))"
   ]
  },
  {
   "cell_type": "code",
   "execution_count": 4,
   "metadata": {},
   "outputs": [
    {
     "name": "stdout",
     "output_type": "stream",
     "text": [
      "(3902, 16384, 20)\n"
     ]
    }
   ],
   "source": [
    "from math import ceil\n",
    "\n",
    "print(Xtest.shape)\n",
    "\n",
    "Ypred = model.predict(Xtest, batch_size=2)"
   ]
  },
  {
   "cell_type": "markdown",
   "metadata": {},
   "source": [
    "## ROC methods"
   ]
  },
  {
   "cell_type": "code",
   "execution_count": 16,
   "metadata": {},
   "outputs": [],
   "source": [
    "def confusion_matrix(Xs, Ys_real, Ys_pred, threshold=0.0, channel=0):\n",
    "    # Convert the predicted values into a one-hot-encoding\n",
    "    predicted = (Ys_pred > threshold).transpose()\n",
    "    real = Ys_real > threshold\n",
    "    \n",
    "    not_predicted = np.logical_not(predicted)\n",
    "    not_real = np.logical_not(real)\n",
    "    \n",
    "    TP = np.logical_and(predicted, real).sum()\n",
    "    TN = np.logical_and(not_predicted, not_real).sum()\n",
    "    FP = np.logical_and(predicted, not_real).sum()\n",
    "    FN = np.logical_and(not_predicted, real).sum()\n",
    "    \n",
    "    return TP, TN, FP, FN\n",
    "\n",
    "def rates(Xs, Ys_real, Ys_pred, threshold=0.0, channel=0):\n",
    "    TP, TN, FP, FN = confusion_matrix(Xs, Ys_real, Ys_pred, threshold=threshold, channel=channel)        \n",
    "    return TP / (TP + FN), TN / (TN + FP), FP / (FP + TN), FN / (FN + TP)\n",
    "\n",
    "def roc_curve(Xs, Ys_real, Ys_pred, numThresholds=100, channel=0):\n",
    "    curve = { 0.0: 0.0, 1.0: 1.0 }\n",
    "    for thresh in np.linspace(0.0, 1.0, numThresholds):\n",
    "        tpr, _, fpr, _ = rates(Xs, Ys_real, Ys_pred, threshold=thresh, channel=channel)\n",
    "        curve[fpr] = tpr\n",
    "    \n",
    "    # Sort the curve by the FPR values\n",
    "    sorted_curve = list(sorted(list(curve.items()), key=lambda x : x[0]))\n",
    "    \n",
    "    # Unzip the curve and return the result\n",
    "    return tuple(zip(*sorted_curve))\n",
    "\n",
    "def pr_curve(Xs, Ys_real, Ys_pred, numThresholds=100):\n",
    "    curve = {}\n",
    "    for thresh in np.linspace(0.0, 1.0, numThresholds):\n",
    "        TP, TN, FP, FN = confusion_matrix(Xs, Ys_real, Ys_pred, threshold=thresh)\n",
    "        precision = TP / (TP + FP)\n",
    "        recall = TP / (TP + FN)\n",
    "        curve[precision] = recall\n",
    "    \n",
    "    # Sort the curve by the FPR values\n",
    "    sorted_curve = list(sorted(list(curve.items()), key=lambda x : x[0]))\n",
    "    \n",
    "    # Unzip the curve and return the result\n",
    "    return tuple(zip(*sorted_curve))\n",
    "\n",
    "def best_threshold(Xs, Ys_real, Ys_pred, numThresholds=100):\n",
    "    best = 0.0\n",
    "    lastY = 0.0\n",
    "    \n",
    "    vs = {}\n",
    "    \n",
    "    for thresh in np.linspace(0.0, 1.0, numThresholds):\n",
    "        tpr, _, fpr, _ = rates(Xs, Ys_real, Ys_pred, threshold=thresh)\n",
    "        y = tpr + fpr - 1\n",
    "        vs[thresh] = abs(y)        \n",
    "        \n",
    "    return min(vs, key=vs.get)\n",
    "\n",
    "def area_under_curve(x, y):\n",
    "    a = 0.0\n",
    "    for i in range(len(x)-1):\n",
    "        dx = x[i+1]-x[i]\n",
    "        v = y[i+1]+y[i]\n",
    "        if np.isnan(dx) or np.isnan(v): continue\n",
    "        a += v*dx / 2.0\n",
    "    return a\n",
    "\n",
    "def plot_roc_curve(Xs, Ys_real, Ys_pred, numThresholds=100):\n",
    "    curve = roc_curve(Xs, Ys_real, Ys_pred, numThresholds=numThresholds)\n",
    "    #threshs = [best_threshold(Xs, Ys_real, Ys_pred, numThresholds=numThresholds, channel=channel) for channel in range(Ys_real.shape[-1])]\n",
    "    auc = area_under_curve(*curve)\n",
    "    \n",
    "    plt.plot(curve[0], curve[1], linewidth=2.0)\n",
    "    \n",
    "    the_labels = [F\"Allergen-net ({auc:.2f})\", \"Random classifier (0.5)\"]\n",
    "    the_labels.append(\"Random classifier (0.5)\")\n",
    "    \n",
    "    plt.plot([0,1], [0,1], 'r--')\n",
    "    plt.xlim(0,1)\n",
    "    plt.ylim(0,1)\n",
    "    plt.legend(the_labels)"
   ]
  },
  {
   "cell_type": "code",
   "execution_count": 8,
   "metadata": {},
   "outputs": [
    {
     "name": "stderr",
     "output_type": "stream",
     "text": [
      "C:\\Users\\z003v6wt\\AppData\\Local\\Continuum\\anaconda3\\lib\\site-packages\\ipykernel_launcher.py:18: RuntimeWarning: invalid value encountered in long_scalars\n"
     ]
    },
    {
     "data": {
      "image/png": "[encoded data removed]",
      "text/plain": [
       "<Figure size 1080x576 with 1 Axes>"
      ]
     },
     "metadata": {
      "needs_background": "light"
     },
     "output_type": "display_data"
    }
   ],
   "source": [
    "import matplotlib.pyplot as plt\n",
    "\n",
    "plt.figure(figsize=(15,8))\n",
    "plt.grid(which='both')\n",
    "plt.title(\"Receiver Operator Curve\\n\")\n",
    "\n",
    "plot_roc_curve(Xtest, Ytest, Ypred, numThresholds=1000)"
   ]
  },
  {
   "cell_type": "code",
   "execution_count": 23,
   "metadata": {},
   "outputs": [
    {
     "name": "stdout",
     "output_type": "stream",
     "text": [
      "True positive rate:   82.57%\n",
      "True negative rate:   99.48%\n",
      "False positive rate:   0.52%\n",
      "False negative rate:  17.43%\n"
     ]
    }
   ],
   "source": [
    "TP, TN, FP, FN = confusion_matrix(Xtest, Ytest, Ypred, threshold=0.05)\n",
    "\n",
    "print(F\"True positive rate:   {TP / (TP + FN) * 100:>5.2f}%\")\n",
    "print(F\"True negative rate:   {TN / (TN + FP) * 100:>5.2f}%\")\n",
    "print(F\"False positive rate:  {FP / (FP + TN) * 100:>5.2f}%\")\n",
    "print(F\"False negative rate:  {FN / (FN + TP) * 100:>5.2f}%\")"
   ]
  },
  {
   "cell_type": "code",
   "execution_count": 11,
   "metadata": {},
   "outputs": [
    {
     "name": "stderr",
     "output_type": "stream",
     "text": [
      "C:\\Users\\z003v6wt\\AppData\\Local\\Continuum\\anaconda3\\lib\\site-packages\\ipykernel_launcher.py:36: RuntimeWarning: invalid value encountered in long_scalars\n",
      "C:\\Users\\z003v6wt\\AppData\\Local\\Continuum\\anaconda3\\lib\\site-packages\\ipykernel_launcher.py:37: RuntimeWarning: invalid value encountered in long_scalars\n"
     ]
    },
    {
     "data": {
      "image/png": "[encoded data removed]",
      "text/plain": [
       "<Figure size 1080x576 with 1 Axes>"
      ]
     },
     "metadata": {
      "needs_background": "light"
     },
     "output_type": "display_data"
    }
   ],
   "source": [
    "x,y = pr_curve(Xtest, Ytest, Ypred, numThresholds=1000)\n",
    "\n",
    "plt.figure(figsize=(15,8))\n",
    "plt.grid(which='both')\n",
    "plt.title(\"Precision Recall Characteristics\\n\")\n",
    "plt.xlabel(\"False positive rate\")\n",
    "plt.ylabel(\"True positive rate\")\n",
    "\n",
    "plt.plot(x,y)\n",
    "plt.xlim(0,1)\n",
    "plt.ylim(0,1)\n",
    "plt.show()"
   ]
  },
  {
   "cell_type": "code",
   "execution_count": 10,
   "metadata": {},
   "outputs": [
    {
     "name": "stdout",
     "output_type": "stream",
     "text": [
      "3902/3902 [==============================] - 381s 98ms/sample - loss: 0.1762 - acc: 0.9677\n"
     ]
    },
    {
     "data": {
      "text/plain": [
       "[0.17616567150566742, 0.9677089]"
      ]
     },
     "execution_count": 10,
     "metadata": {},
     "output_type": "execute_result"
    }
   ],
   "source": [
    "model.evaluate(Xtest, Ytest)"
   ]
  },
  {
   "cell_type": "code",
   "execution_count": 17,
   "metadata": {},
   "outputs": [
    {
     "name": "stderr",
     "output_type": "stream",
     "text": [
      "C:\\Users\\z003v6wt\\AppData\\Local\\Continuum\\anaconda3\\lib\\site-packages\\ipykernel_launcher.py:18: RuntimeWarning: invalid value encountered in long_scalars\n"
     ]
    },
    {
     "data": {
      "text/plain": [
       "0.010101010101010102"
      ]
     },
     "execution_count": 17,
     "metadata": {},
     "output_type": "execute_result"
    }
   ],
   "source": [
    "best_threshold(Xtest, Ytest, Ypred, numThresholds=100)"
   ]
  },
  {
   "cell_type": "code",
   "execution_count": null,
   "metadata": {},
   "outputs": [],
   "source": []
  }
 ],
 "metadata": {
  "kernelspec": {
   "display_name": "Python 3",
   "language": "python",
   "name": "python3"
  },
  "language_info": {
   "codemirror_mode": {
    "name": "ipython",
    "version": 3
   },
   "file_extension": ".py",
   "mimetype": "text/x-python",
   "name": "python",
   "nbconvert_exporter": "python",
   "pygments_lexer": "ipython3",
   "version": "3.7.1"
  }
 },
 "nbformat": 4,
 "nbformat_minor": 2
}
