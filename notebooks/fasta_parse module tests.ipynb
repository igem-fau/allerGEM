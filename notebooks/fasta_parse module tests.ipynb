{
 "cells": [
  {
   "cell_type": "code",
   "execution_count": 1,
   "metadata": {},
   "outputs": [],
   "source": [
    "import fasta_parse"
   ]
  },
  {
   "cell_type": "code",
   "execution_count": 2,
   "metadata": {},
   "outputs": [
    {
     "name": "stdout",
     "output_type": "stream",
     "text": [
      "Help on module fasta_parse:\n",
      "\n",
      "NAME\n",
      "    fasta_parse - iGEM FAU 2019\n",
      "\n",
      "CLASSES\n",
      "    builtins.object\n",
      "        FASTA\n",
      "    \n",
      "    class FASTA(builtins.object)\n",
      "     |  Takes a .fasta file as an input and saves relevant information in its\n",
      "     |  respective attributes.\n",
      "     |  \n",
      "     |  Methods defined here:\n",
      "     |  \n",
      "     |  __init__(self, filename)\n",
      "     |      Attributes:\n",
      "     |      -\"file\" is a list object of the opened file.\n",
      "     |      -\"aa_seq\" returns the amino acid sequence.\n",
      "     |      -\"header\" returns the header(s) of the file.\n",
      "     |      -\"comments\" returns the comments (marked by \";\")\n",
      "     |  \n",
      "     |  __len__(self)\n",
      "     |      Returns the length of the amino acid sequence.\n",
      "     |  \n",
      "     |  one_hot(self)\n",
      "     |      Turn AA sequence into a one hot coded version for neural networks.\n",
      "     |      The numbers follow the order in the naming conventions.\n",
      "     |  \n",
      "     |  ----------------------------------------------------------------------\n",
      "     |  Data descriptors defined here:\n",
      "     |  \n",
      "     |  __dict__\n",
      "     |      dictionary for instance variables (if defined)\n",
      "     |  \n",
      "     |  __weakref__\n",
      "     |      list of weak references to the object (if defined)\n",
      "\n",
      "FILE\n",
      "    c:\\users\\linkai\\documents\\igem\\simulation\\allergene\\fasta_parse.py\n",
      "\n",
      "\n"
     ]
    }
   ],
   "source": [
    "help(fasta_parse)"
   ]
  },
  {
   "cell_type": "code",
   "execution_count": 3,
   "metadata": {},
   "outputs": [
    {
     "name": "stdout",
     "output_type": "stream",
     "text": [
      ">sp|A2BIM8.1|MUP18_MOUSE RecName: Full=Major urinary protein 18; Flags: Precursor\n",
      "\n",
      "\n",
      "MKMLLLLLCLGLTLVCVHAEEASSTGRNFNVEKINGEWHTIILASDKREKIEDNGNFRLFLEQIHVLENSLVLKFHTVRDEECSELSMVADKTEKAGEYSVTYDGFNTFTIPKTDYDNFLMAHLINEKDGETFQLMGLYGREPDLSSDIKERFAQLCEEHGILRENIIDLSNANRCLQARE\n",
      "\n",
      "181\n",
      "[[0. 0. 0. ... 0. 0. 0.]\n",
      " [0. 0. 0. ... 0. 0. 0.]\n",
      " [0. 0. 0. ... 0. 0. 0.]\n",
      " ...\n",
      " [1. 0. 0. ... 0. 0. 0.]\n",
      " [0. 0. 0. ... 0. 0. 0.]\n",
      " [0. 0. 0. ... 0. 0. 0.]]\n"
     ]
    }
   ],
   "source": [
    "test = fasta_parse.FASTA(\"A2BIM8.1.fasta\")\n",
    "print(test.header)\n",
    "print('\\n')\n",
    "print(test.aa_seq)\n",
    "print(test.comments) # None in this file.\n",
    "print(len(test))\n",
    "one_hot = test.one_hot()\n",
    "print(one_hot)"
   ]
  }
 ],
 "metadata": {
  "kernelspec": {
   "display_name": "Python 3",
   "language": "python",
   "name": "python3"
  },
  "language_info": {
   "codemirror_mode": {
    "name": "ipython",
    "version": 3
   },
   "file_extension": ".py",
   "mimetype": "text/x-python",
   "name": "python",
   "nbconvert_exporter": "python",
   "pygments_lexer": "ipython3",
   "version": "3.6.5"
  }
 },
 "nbformat": 4,
 "nbformat_minor": 2
}
