{
 "cells": [
  {
   "cell_type": "markdown",
   "metadata": {},
   "source": [
    "# Load the data"
   ]
  },
  {
   "cell_type": "code",
   "execution_count": 25,
   "metadata": {},
   "outputs": [],
   "source": [
    "import tensorflow as tf\n",
    "from tensorflow.keras.models import Model\n",
    "from tensorflow.keras.layers import (Input, Activation, Dense, Flatten, Reshape, Conv1D, Conv2D, Add, BatchNormalization, MaxPooling1D)\n",
    "import numpy as np\n",
    "from random import sample, shuffle\n",
    "\n",
    "K = 5\n",
    "\n",
    "# The amino alphabet\n",
    "aa1 = list(\"ACDEFGHIKLMNPQRSTVWY\")\n",
    "aa2int = dict((c, i) for i, c in enumerate(aa1))\n",
    "\n",
    "#Parsing of filtered dataset file\n",
    "raw = list(open(\"../data/nodups.fasta\", 'r'))\n",
    "raw = [i[:-1] for i in raw] # remove newlines\n",
    "labels = np.array([int(i.split(\";\")[1]) for i in raw])\n",
    "seq = [i.split(\";\")[0] for i in raw]\n",
    "data = list(zip(seq, labels))\n",
    "longest = max([len(i[0]) for i in data]) # Currently 8797\n",
    "\n",
    "# Get the corresponding 2^n\n",
    "longest = (np.power(2, np.ceil(np.log(longest)/np.log(2)))).astype(np.int64)"
   ]
  },
  {
   "cell_type": "code",
   "execution_count": 26,
   "metadata": {},
   "outputs": [
    {
     "data": {
      "text/plain": [
       "('MVQINGSYKLEKSDNFDAFLKELGLNFVTRNLAKSATPTVEVSVNGDSYTIKTASTLKNTEISFKLGEEFEEARADGKTVKTVVNKESDTKFVQVQQGDKEVTIVREFSDEGLTVTATVNGVTSVRFYKRQ',\n",
       " 1)"
      ]
     },
     "metadata": {},
     "output_type": "display_data"
    },
    {
     "data": {
      "text/plain": [
       "('MNNEEDLLQEDSTRDEGNETEANSMNTLRRTRKKVTKPYVCSTEVGETDMSNSNDCMRDSSQILTPPQLSSRMKHIRQAMAKNRLQFVRFEATDLHGVSRSKTIPAHFFQEKVSHGVCMPRGYLEVIPNPKDNEMNNIRATCFNSDIVLMPELSTFRVLPWADRTARVICDTFTVTGEPLLTSPRYIAKRQLSHLQASGFSLLSAFIYDFCIFGVPEILNSKIISFPALTFLNNHDQPFMQELVDGLYHTGANVESFSSSTRPGQMEISFLPEFGISSADNAFTLRTGVKEVARKYNYIASFFIETGFCDSGILSHSLWDVDRKKNMFCSTSGTEQLTITGKKWLAGLLKHSAALSCLMAPSVSCRKRYSKDRKDLKKSVPTTWGYNDNSCIFNIKCHGEKGTRIENKLGSATANPYLVLAATVAAGLDGLHSSNEVLAGPDESTDFYQVEPSEIPLKLEDALVALEEDQCLRQALGETFIRYFVAMKKYELENEEIAAERNKFLEYFI',\n",
       " 0)"
      ]
     },
     "metadata": {},
     "output_type": "display_data"
    }
   ],
   "source": [
    "display(data[0])\n",
    "display(data[-1])"
   ]
  },
  {
   "cell_type": "markdown",
   "metadata": {},
   "source": [
    "## Divide into allergens / non allergens and perform the k-split"
   ]
  },
  {
   "cell_type": "code",
   "execution_count": 27,
   "metadata": {},
   "outputs": [],
   "source": [
    "allergens = [i for i in data if i[1] == 1]\n",
    "non_allergens = [i for i in data if i[1] == 0]"
   ]
  },
  {
   "cell_type": "code",
   "execution_count": 28,
   "metadata": {},
   "outputs": [],
   "source": [
    "shuffle(allergens)\n",
    "shuffle(non_allergens)"
   ]
  },
  {
   "cell_type": "code",
   "execution_count": 45,
   "metadata": {},
   "outputs": [],
   "source": [
    "def chunkIt(seq, num):\n",
    "    avg = len(seq) / float(num)\n",
    "    out = []\n",
    "    last = 0.0\n",
    "\n",
    "    while last < len(seq):\n",
    "        out.append(seq[int(last):int(last + avg)])\n",
    "        last += avg\n",
    "\n",
    "    return out\n",
    "\n",
    "allergens_split = [[allergens[i] for i in range_] for range_ in chunkIt(range(len(allergens)), K)]\n",
    "non_allergens_split = [[non_allergens[i] for i in range_] for range_ in chunkIt(range(len(non_allergens)), K)]\n",
    "\n",
    "# Combine the splits\n",
    "data_split = [allergens_split[k] + non_allergens_split[k] for k in range(K)]\n",
    "\n",
    "# Shuffle each entry\n",
    "for k in range(K):\n",
    "    shuffle(data_split[k])"
   ]
  },
  {
   "cell_type": "markdown",
   "metadata": {},
   "source": [
    "# Store to file"
   ]
  },
  {
   "cell_type": "code",
   "execution_count": 69,
   "metadata": {
    "scrolled": true
   },
   "outputs": [],
   "source": [
    "import os\n",
    "import datetime\n",
    "the_timestamp = datetime.datetime.now().strftime(\"%Y%m%d-%H%M%S\")\n",
    "\n",
    "for k in range(K):\n",
    "    with open(F\".//data_{k}_{the_timestamp}.dat\", \"w\") as f:\n",
    "        for x, y in data_split[k]:\n",
    "            f.write(F\"{x};{y}\\n\")\n",
    "\n",
    "# Store the different splits directly\n",
    "ksplit=0\n",
    "for v in range(K):\n",
    "    for t in range(K):\n",
    "        if t == v:\n",
    "            continue\n",
    "        \n",
    "        x_train = []\n",
    "        y_train = []\n",
    "        for i in range(K):\n",
    "            if i == v or i == t:\n",
    "                continue\n",
    "            for x,y in data_split[i]:\n",
    "                x_train.append(x)\n",
    "                y_train.append(y)\n",
    "        \n",
    "        train = list(zip(x_train, y_train))\n",
    "        shuffle(train)\n",
    "        \n",
    "        with open(F\".//data_split_{ksplit+1}_train_{the_timestamp}.dat\", \"w\") as f:\n",
    "            for x, y in train:\n",
    "                f.write(F\"{x};{y}\\n\")\n",
    "        \n",
    "        with open(F\".//data_split_{ksplit+1}_test_{the_timestamp}.dat\", \"w\") as f:\n",
    "            for x, y in data_split[t]:\n",
    "                f.write(F\"{x};{y}\\n\")\n",
    "        \n",
    "        with open(F\".//data_split_{ksplit+1}_valid_{the_timestamp}.dat\", \"w\") as f:\n",
    "            for x, y in data_split[v]:\n",
    "                f.write(F\"{x};{y}\\n\")\n",
    "            \n",
    "        ksplit += 1\n",
    "    \n",
    "\n",
    "#onehot_coded_data = np.array(\n",
    "#    list(map(onehot, list([i for i in seq])))\n",
    "#)\n",
    "\n",
    "#display(onehot_coded_data[0])\n",
    "#display(onehot_coded_data[-1])"
   ]
  },
  {
   "cell_type": "code",
   "execution_count": null,
   "metadata": {},
   "outputs": [],
   "source": []
  }
 ],
 "metadata": {
  "kernelspec": {
   "display_name": "Python 3",
   "language": "python",
   "name": "python3"
  },
  "language_info": {
   "codemirror_mode": {
    "name": "ipython",
    "version": 3
   },
   "file_extension": ".py",
   "mimetype": "text/x-python",
   "name": "python",
   "nbconvert_exporter": "python",
   "pygments_lexer": "ipython3",
   "version": "3.7.1"
  }
 },
 "nbformat": 4,
 "nbformat_minor": 2
}
